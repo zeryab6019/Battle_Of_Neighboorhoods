{
 "cells": [
  {
   "cell_type": "markdown",
   "metadata": {},
   "source": [
    "## Data  \n",
    "\n",
    "One city will be analysed in this project : Newyork City.\n",
    "We will be using the below datasets for analysing Newyork city\n",
    "\n",
    "### Data 1 : \n",
    "Neighborhood has a total of 5 boroughs and 306 neighborhoods. In order to segement the neighborhoods and explore them, we will essentially need a dataset that contains the 5 boroughs and the neighborhoods that exist in each borough as well as the the latitude and logitude coordinates of each neighborhood.\n",
    "This dataset exists for free on the web. Link to the dataset is : https://geo.nyu.edu/catalog/nyu_2451_34572\n",
    "\n",
    "\n",
    "### Data 2 : \n",
    "For the below analysis we will get data from wikipedia as given below : \n",
    "1. New York Population \n",
    "2. Cuisine of New York city <br/>\n",
    "https://en.wikipedia.org/wiki/New_York_City <br/>\n",
    "https://en.wikipedia.org/wiki/Cuisine_of_New_York_City \n",
    "\n",
    "\n",
    "### Data 4 : \n",
    "Newyork city geographical coordinates data will be utilized as input for the Foursquare API, that will be leveraged to provision venues information for each neighborhood. We will use the Foursquare API to explore neighborhoods in New York City. \n",
    " "
   ]
  },
  {
   "cell_type": "code",
   "execution_count": null,
   "metadata": {},
   "outputs": [],
   "source": []
  }
 ],
 "metadata": {
  "kernelspec": {
   "display_name": "Python",
   "language": "python",
   "name": "conda-env-python-py"
  },
  "language_info": {
   "codemirror_mode": {
    "name": "ipython",
    "version": 3
   },
   "file_extension": ".py",
   "mimetype": "text/x-python",
   "name": "python",
   "nbconvert_exporter": "python",
   "pygments_lexer": "ipython3",
   "version": "3.6.10"
  }
 },
 "nbformat": 4,
 "nbformat_minor": 4
}

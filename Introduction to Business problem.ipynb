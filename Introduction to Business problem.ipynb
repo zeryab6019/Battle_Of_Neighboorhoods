{
 "cells": [
  {
   "cell_type": "markdown",
   "metadata": {},
   "source": [
    "<img src=\"ABC.jpg\" alt=\"Flowers in Chania\">\n",
    "\n",
    "# Analysis for best place to start a new restaurant in New York\n",
    "\n",
    "\n",
    "\n",
    "### Introduction \n",
    "\n",
    "New York is one of biggest cities of the world. The city is financial capital of USA and an extremely expensive city to live and start a new business venture. People from every corner of the world are settled here for doing business and jobs. The core of this project is to suggest an optimal location to start a new restaurant. Although the success of the restaurant is highly dependent on quality and taste of the food but accessibility is one of the main factor too. For analysis following factors need to be considered.\n",
    "\n",
    "1. Population density of the areas\n",
    "2. Competitors\n",
    "3. Choices of people in the particular area\n",
    "\n",
    "\n",
    "In order to find the solution, we will use data of New York city and apply machine learning techniques to estimate some best areas.\n",
    "\n",
    "### Role\n",
    "I will prepare this report as a data scientist and the report will help the client to make an initial decision for top few locations. He will have to decide it by himself that he should go to an extremely competitive area with a lot of existing restaurants and potential customers or he will opt to open it a place that has very low number of restaurants.\n"
   ]
  },
  {
   "cell_type": "code",
   "execution_count": null,
   "metadata": {},
   "outputs": [],
   "source": []
  }
 ],
 "metadata": {
  "kernelspec": {
   "display_name": "Python",
   "language": "python",
   "name": "conda-env-python-py"
  },
  "language_info": {
   "codemirror_mode": {
    "name": "ipython",
    "version": 3
   },
   "file_extension": ".py",
   "mimetype": "text/x-python",
   "name": "python",
   "nbconvert_exporter": "python",
   "pygments_lexer": "ipython3",
   "version": "3.6.10"
  }
 },
 "nbformat": 4,
 "nbformat_minor": 4
}
